{
 "cells": [
  {
   "cell_type": "code",
   "execution_count": 56,
   "metadata": {},
   "outputs": [],
   "source": [
    "num=0\n",
    "\n",
    "files_images = []"
   ]
  },
  {
   "cell_type": "code",
   "execution_count": 47,
   "metadata": {},
   "outputs": [],
   "source": [
    "cv2.destroyAllWindows()"
   ]
  },
  {
   "cell_type": "code",
   "execution_count": 59,
   "metadata": {},
   "outputs": [
    {
     "name": "stdout",
     "output_type": "stream",
     "text": [
      "Picture was taken\n",
      "\n"
     ]
    }
   ],
   "source": [
    "import cv2 \n",
    "import datetime \n",
    "\n",
    "date_today = datetime.date.today()\n",
    "num = 1  # Inicializar el contador num\n",
    "\n",
    "\n",
    "def take_picture(file_name):\n",
    "    camara = cv2.VideoCapture(0)\n",
    "\n",
    "    ret, imagen = camara.read()\n",
    "\n",
    "    if ret:  \n",
    "        # Verificar si la captura de la imagen fue exitosa\n",
    "        cv2.imwrite(file_name, imagen)\n",
    "        print(\"Picture was taken\")\n",
    "        cv2.imshow('Captured Image', imagen)  # Mostrar la imagen capturada\n",
    "        cv2.waitKey(0)  # Esperar a que se presione una tecla\n",
    "        cv2.destroyAllWindows()\n",
    "    else:\n",
    "        print(\"Failed to take picture\")\n",
    "\n",
    "    camara.release()\n",
    "\n",
    "\n",
    "def files_names(files_images, file_name, num):\n",
    "    while file_name in files_images:\n",
    "        num += 1\n",
    "        file_name = f'./images/image_{date_today}_{num}.jpg'\n",
    "    files_images.append(file_name)\n",
    "    return files_images, file_name, num\n",
    "\n",
    "files_images, file_name, num = files_names(files_images, f'image_{date_today}_{num}.jpg', num)\n",
    "\n",
    "take_picture(file_name)\n",
    "print()\n"
   ]
  },
  {
   "cell_type": "code",
   "execution_count": 60,
   "metadata": {},
   "outputs": [
    {
     "name": "stdout",
     "output_type": "stream",
     "text": [
      "['image_2024-03-05_1.jpg', './images/image_2024-03-05_2.jpg']\n"
     ]
    }
   ],
   "source": [
    "print(files_images)"
   ]
  }
 ],
 "metadata": {
  "kernelspec": {
   "display_name": "mi_entorno",
   "language": "python",
   "name": "python3"
  },
  "language_info": {
   "codemirror_mode": {
    "name": "ipython",
    "version": 3
   },
   "file_extension": ".py",
   "mimetype": "text/x-python",
   "name": "python",
   "nbconvert_exporter": "python",
   "pygments_lexer": "ipython3",
   "version": "3.8.18"
  }
 },
 "nbformat": 4,
 "nbformat_minor": 2
}
