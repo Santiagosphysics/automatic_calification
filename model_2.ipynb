{
 "cells": [
  {
   "cell_type": "code",
   "execution_count": 1,
   "metadata": {},
   "outputs": [],
   "source": [
    "import tensorflow as tf \n",
    "import math \n",
    "import numpy as np \n",
    "import pandas as pd \n",
    "import matplotlib.pyplot as plt\n",
    "from tensorflow.keras.callbacks import EarlyStopping \n",
    "from tensorflow.keras.models import Sequential\n",
    "from tensorflow.keras.layers import Conv2D, MaxPooling2D, Flatten, Dense, Dropout, LSTM \n",
    "from tensorflow.keras.preprocessing.image import ImageDataGenerator\n",
    "import os \n",
    "from sklearn.model_selection import train_test_split\n",
    "from sklearn.preprocessing import LabelEncoder\n",
    "from sklearn.metrics import classification_report\n",
    "import cv2\n"
   ]
  },
  {
   "cell_type": "code",
   "execution_count": 2,
   "metadata": {},
   "outputs": [],
   "source": [
    "def data_bal(path):\n",
    "    data = os.listdir(path)\n",
    "    df = {i: [] for i in range(len(data))}\n",
    "    for i in range(len(data)):\n",
    "        a = f'{path}/{i}/'\n",
    "        df[i] = [f\"{a}{file}\" for file in os.listdir(f'{path}/{i}')]\n",
    "    return df\n",
    "\n",
    "x = './new_data'\n",
    "df = data_bal(x)\n",
    "\n",
    "min_df = min(len(images) for images in df.values())\n",
    "len_data = len(df)\n",
    "\n",
    "df = {key: list(set(value))[:min_df] for key, value in df.items()}\n",
    "total_images = min_df * len(df)\n",
    "df = pd.DataFrame(df)\n",
    "\n",
    "# image_paths = df.values.flatten()\n",
    "# labels = np.repeat(df.columns, len(df))"
   ]
  },
  {
   "cell_type": "code",
   "execution_count": 69,
   "metadata": {},
   "outputs": [],
   "source": [
    "def preproccess_image(image_path):\n",
    "    if os.path.exists(image_path):\n",
    "        image_p = cv2.imread(image_path, cv2.IMREAD_GRAYSCALE)\n",
    "        image_p = cv2.bitwise_not(image_p)\n",
    "        resized_image = cv2.resize(image_p, (48,48))\n",
    "        resized_image[np.where(resized_image > 190)] = 255\n",
    "        resized_image[np.where(resized_image < 125)] = 0\n",
    "        normalized_image = resized_image / 255.0 \n",
    "        processed_image = np.expand_dims(normalized_image, axis = -1)\n",
    "        return normalized_image  # Se devuelve la imagen procesada\n",
    "    else:\n",
    "        print(f\"Warning: Unable to open or read image file: {image_path}\")\n"
   ]
  },
  {
   "cell_type": "code",
   "execution_count": 70,
   "metadata": {},
   "outputs": [
    {
     "name": "stdout",
     "output_type": "stream",
     "text": [
      "5\n"
     ]
    },
    {
     "data": {
      "image/png": "[encoded data removed]",
      "text/plain": [
       "<Figure size 640x480 with 1 Axes>"
      ]
     },
     "metadata": {},
     "output_type": "display_data"
    }
   ],
   "source": [
    "y = np.repeat(df.columns, len(df))\n",
    "X = []\n",
    "\n",
    "for var in df:\n",
    "    for image in df[var]:\n",
    "        X.append(preproccess_image(image))\n",
    "X = np.array(X)\n",
    "n = 10232\n",
    "\n",
    "print(y[n])\n",
    "plt.imshow(X[n], cmap='gray')\n",
    "plt.show()\n",
    "label_encoder = LabelEncoder()\n",
    "y = label_encoder.fit_transform(y)\n",
    "X_train, X_test, y_train, y_test = train_test_split(X, y, test_size=0.2, random_state=42)"
   ]
  },
  {
   "cell_type": "code",
   "execution_count": 105,
   "metadata": {},
   "outputs": [],
   "source": [
    "batch_size = 32\n",
    "\n",
    "# Definir arquitectura del modelo\n",
    "model = Sequential([\n",
    "    Conv2D(32, (7, 7), activation='relu', input_shape=(48, 48, 1)),\n",
    "    MaxPooling2D((2, 2)),\n",
    "    Dropout(0.25),\n",
    "\n",
    "    Conv2D(64, (5, 5), activation='relu'),\n",
    "    MaxPooling2D((2, 2)),\n",
    "    Dropout(0.25),\n",
    "\n",
    "    Conv2D(256, (3,3), activation='relu'),\n",
    "    MaxPooling2D((2,2)),\n",
    "    Dropout(0.25),\n",
    "\n",
    "    Flatten(),\n",
    "    Dense(128, activation='relu'),\n",
    "    Dropout(0.25),\n",
    "    Dense(10, activation='softmax')  # 10 clases en total\n",
    "])\n",
    "\n",
    "# Compilar el modelo\n",
    "model.compile(optimizer='adam',\n",
    "              loss='sparse_categorical_crossentropy',\n",
    "              metrics=['accuracy'])\n",
    "\n",
    "early_stopping = EarlyStopping(monitor='val_loss', patience = 4)"
   ]
  },
  {
   "cell_type": "code",
   "execution_count": 106,
   "metadata": {},
   "outputs": [
    {
     "name": "stdout",
     "output_type": "stream",
     "text": [
      "Epoch 1/50\n",
      "504/504 [==============================] - 3s 5ms/step - loss: 1.0398 - accuracy: 0.6511 - val_loss: 0.4461 - val_accuracy: 0.8624\n",
      "Epoch 2/50\n",
      "504/504 [==============================] - 3s 5ms/step - loss: 0.4720 - accuracy: 0.8496 - val_loss: 0.3337 - val_accuracy: 0.8906\n",
      "Epoch 3/50\n",
      "504/504 [==============================] - 3s 5ms/step - loss: 0.3370 - accuracy: 0.8900 - val_loss: 0.2716 - val_accuracy: 0.9134\n",
      "Epoch 4/50\n",
      "504/504 [==============================] - 3s 5ms/step - loss: 0.2751 - accuracy: 0.9088 - val_loss: 0.2312 - val_accuracy: 0.9236\n",
      "Epoch 5/50\n",
      "504/504 [==============================] - 3s 5ms/step - loss: 0.2363 - accuracy: 0.9227 - val_loss: 0.2122 - val_accuracy: 0.9328\n",
      "Epoch 6/50\n",
      "504/504 [==============================] - 3s 5ms/step - loss: 0.2023 - accuracy: 0.9323 - val_loss: 0.2069 - val_accuracy: 0.9313\n",
      "Epoch 7/50\n",
      "504/504 [==============================] - 3s 5ms/step - loss: 0.1787 - accuracy: 0.9423 - val_loss: 0.1742 - val_accuracy: 0.9442\n",
      "Epoch 8/50\n",
      "504/504 [==============================] - 3s 5ms/step - loss: 0.1585 - accuracy: 0.9470 - val_loss: 0.1874 - val_accuracy: 0.9444\n",
      "Epoch 9/50\n",
      "504/504 [==============================] - 2s 5ms/step - loss: 0.1494 - accuracy: 0.9513 - val_loss: 0.1780 - val_accuracy: 0.9420\n",
      "Epoch 10/50\n",
      "504/504 [==============================] - 2s 5ms/step - loss: 0.1341 - accuracy: 0.9536 - val_loss: 0.1729 - val_accuracy: 0.9501\n",
      "Epoch 11/50\n",
      "504/504 [==============================] - 2s 5ms/step - loss: 0.1298 - accuracy: 0.9563 - val_loss: 0.1761 - val_accuracy: 0.9469\n",
      "Epoch 12/50\n",
      "504/504 [==============================] - 3s 5ms/step - loss: 0.1131 - accuracy: 0.9629 - val_loss: 0.1576 - val_accuracy: 0.9514\n",
      "Epoch 13/50\n",
      "504/504 [==============================] - 2s 5ms/step - loss: 0.1070 - accuracy: 0.9640 - val_loss: 0.1663 - val_accuracy: 0.9509\n",
      "Epoch 14/50\n",
      "504/504 [==============================] - 2s 5ms/step - loss: 0.0974 - accuracy: 0.9660 - val_loss: 0.1521 - val_accuracy: 0.9556\n",
      "Epoch 15/50\n",
      "504/504 [==============================] - 2s 5ms/step - loss: 0.0955 - accuracy: 0.9683 - val_loss: 0.1640 - val_accuracy: 0.9524\n",
      "Epoch 16/50\n",
      "504/504 [==============================] - 3s 5ms/step - loss: 0.0858 - accuracy: 0.9709 - val_loss: 0.1676 - val_accuracy: 0.9544\n",
      "Epoch 17/50\n",
      "504/504 [==============================] - 3s 5ms/step - loss: 0.0828 - accuracy: 0.9721 - val_loss: 0.1723 - val_accuracy: 0.9504\n",
      "Epoch 18/50\n",
      "504/504 [==============================] - 3s 5ms/step - loss: 0.0724 - accuracy: 0.9763 - val_loss: 0.1808 - val_accuracy: 0.9529\n",
      "126/126 [==============================] - 0s 2ms/step - loss: 0.1808 - accuracy: 0.9529\n",
      "Test Accuracy: 0.9528769850730896\n",
      "126/126 [==============================] - 0s 2ms/step\n",
      "              precision    recall  f1-score   support\n",
      "\n",
      "           0       0.92      0.95      0.93       352\n",
      "           1       0.93      0.97      0.95       431\n",
      "           2       0.96      0.98      0.97       416\n",
      "           3       0.96      0.96      0.96       429\n",
      "           4       0.98      0.93      0.95       398\n",
      "           5       0.94      0.94      0.94       385\n",
      "           6       0.93      0.99      0.96       396\n",
      "           7       0.97      0.97      0.97       413\n",
      "           8       0.95      0.93      0.94       402\n",
      "           9       0.98      0.91      0.94       410\n",
      "\n",
      "    accuracy                           0.95      4032\n",
      "   macro avg       0.95      0.95      0.95      4032\n",
      "weighted avg       0.95      0.95      0.95      4032\n",
      "\n"
     ]
    }
   ],
   "source": [
    "# Entrenar el modelo usando el generador de datos de entrenamiento\n",
    "history = model.fit(X_train, y_train, epochs=50,\n",
    "                 validation_data=(X_test, y_test), callbacks=[early_stopping])\n",
    "\n",
    "\n",
    "# Evaluar el modelo en datos de prueba\n",
    "test_loss, test_accuracy = model.evaluate(X_test, y_test)\n",
    "print(f\"Test Accuracy: {test_accuracy}\")\n",
    "\n",
    "# Realizar predicciones en datos de prueba\n",
    "predictions = model.predict(X_test)\n",
    "\n",
    "# Obtener la etiqueta predicha para cada muestra\n",
    "predicted_labels = np.argmax(predictions, axis=1)\n",
    "\n",
    "# Mostrar un informe de clasificación\n",
    "print(classification_report(y_test, predicted_labels))\n",
    "\n",
    "model.save('modelo_2.h5')\n"
   ]
  },
  {
   "cell_type": "code",
   "execution_count": 120,
   "metadata": {},
   "outputs": [
    {
     "name": "stdout",
     "output_type": "stream",
     "text": [
      "126/126 [==============================] - 0s 2ms/step - loss: 0.1808 - accuracy: 0.9529\n",
      "Test Accuracy: 0.9528769850730896\n",
      "126/126 [==============================] - 0s 2ms/step\n"
     ]
    }
   ],
   "source": [
    "# Evaluar el modelo en datos de prueba\n",
    "test_loss, test_accuracy = model.evaluate(X_test, y_test)\n",
    "print(f\"Test Accuracy: {test_accuracy}\")\n",
    "\n",
    "# Realizar predicciones en datos de prueba\n",
    "predictions = model.predict(X_test)\n",
    "\n",
    "# Obtener la etiqueta predicha para cada muestra\n",
    "predicted_labels = np.argmax(predictions, axis=1)\n"
   ]
  },
  {
   "cell_type": "code",
   "execution_count": 107,
   "metadata": {},
   "outputs": [],
   "source": [
    "# from tensorflow.keras.models import load_model\n",
    "\n",
    "# model = load_model('modelo_2.h5')"
   ]
  },
  {
   "cell_type": "code",
   "execution_count": 147,
   "metadata": {},
   "outputs": [
    {
     "data": {
      "image/png": "[encoded data removed]",
      "text/plain": [
       "<Figure size 640x480 with 1 Axes>"
      ]
     },
     "metadata": {},
     "output_type": "display_data"
    },
    {
     "name": "stdout",
     "output_type": "stream",
     "text": [
      "1/1 [==============================] - 0s 40ms/step\n"
     ]
    },
    {
     "data": {
      "text/plain": [
       "8"
      ]
     },
     "execution_count": 147,
     "metadata": {},
     "output_type": "execute_result"
    }
   ],
   "source": [
    "def preproccess_image(image_path):\n",
    "    if os.path.exists(image_path):\n",
    "        image_p = cv2.imread(image_path, cv2.IMREAD_GRAYSCALE)\n",
    "        image_p = cv2.bitwise_not(image_p)\n",
    "        resized_image = cv2.resize(image_p, (48,48))\n",
    "        resized_image[np.where(resized_image > 190)] = 255\n",
    "        resized_image[np.where(resized_image < 125)] = 0\n",
    "        normalized_image = resized_image / 255.0 \n",
    "        plt.imshow(normalized_image, cmap='gray')\n",
    "        plt.show()\n",
    "        return normalized_image  # Se devuelve la imagen procesada\n",
    "    else:\n",
    "        print(f\"Warning: Unable to open or read image file: {image_path}\")\n",
    "        \n",
    "image = preproccess_image('images_2/10.jpg')\n",
    "image = np.expand_dims(image, axis=-1)  # Agrega una dimensión para el canal de color\n",
    "image = np.expand_dims(image, axis=0)   # Agrega una dimensión para el lote de imágenes\n",
    "\n",
    "prediction = model.predict(image)\n",
    "np.argmax(prediction)\n",
    "\n"
   ]
  },
  {
   "cell_type": "code",
   "execution_count": null,
   "metadata": {},
   "outputs": [],
   "source": []
  }
 ],
 "metadata": {
  "kernelspec": {
   "display_name": "gpu_2",
   "language": "python",
   "name": "python3"
  },
  "language_info": {
   "codemirror_mode": {
    "name": "ipython",
    "version": 3
   },
   "file_extension": ".py",
   "mimetype": "text/x-python",
   "name": "python",
   "nbconvert_exporter": "python",
   "pygments_lexer": "ipython3",
   "version": "3.10.14"
  }
 },
 "nbformat": 4,
 "nbformat_minor": 2
}
