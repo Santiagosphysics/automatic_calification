{
 "cells": [
  {
   "cell_type": "code",
   "execution_count": 12,
   "metadata": {},
   "outputs": [
    {
     "name": "stdout",
     "output_type": "stream",
     "text": [
      "400 400 0\n"
     ]
    }
   ],
   "source": [
    "import os \n",
    "\n",
    "path_images = './object_detection'\n",
    "file_names = os.listdir(path_images)\n",
    "\n",
    "xml_files = [i for i in file_names if i.endswith('.xml')]\n",
    "jpg_files = [i for i in file_names if i.endswith('.jpg')]\n",
    "txt_files = [i for i in file_names if i.endswith('.txt')]\n",
    "\n",
    "print(len(xml_files), len(jpg_files), len(txt_files))\n"
   ]
  },
  {
   "cell_type": "code",
   "execution_count": 3,
   "metadata": {},
   "outputs": [],
   "source": [
    "import os\n",
    "import xml.etree.ElementTree as ET\n",
    "import cv2\n",
    "\n",
    "def convert_to_yolo(xml_file, image_width, image_height):\n",
    "    tree = ET.parse(xml_file)\n",
    "    root = tree.getroot()\n",
    "\n",
    "    yolo_lines = []\n",
    "    for obj in root.findall('object'):\n",
    "        class_name = obj.find('name').text\n",
    "        bndbox = obj.find('bndbox')\n",
    "        xmin = int(bndbox.find('xmin').text)\n",
    "        ymin = int(bndbox.find('ymin').text)\n",
    "        xmax = int(bndbox.find('xmax').text)\n",
    "        ymax = int(bndbox.find('ymax').text)\n",
    "\n",
    "        # Calcular coordenadas relativas yolo\n",
    "        x_center = (xmin + xmax) / 2 / image_width\n",
    "        y_center = (ymin + ymax) / 2 / image_height\n",
    "        width = (xmax - xmin) / image_width\n",
    "        height = (ymax - ymin) / image_height\n",
    "\n",
    "        yolo_line = f\"{class_name} {x_center:.6f} {y_center:.6f} {width:.6f} {height:.6f}\"\n",
    "        yolo_lines.append(yolo_line)\n",
    "\n",
    "    return yolo_lines\n",
    "\n",
    "# Directorio donde se encuentran los archivos XML y las imágenes correspondientes\n",
    "xml_dir = './object_detection'\n",
    "image_dir = './object_detection'\n",
    "\n",
    "# Iterar sobre los archivos XML en el directorio\n",
    "for xml_file in os.listdir(xml_dir):\n",
    "    if xml_file.endswith('.xml'):\n",
    "        # Obtener el nombre del archivo de la imagen correspondiente\n",
    "        image_name = os.path.splitext(xml_file)[0] + '.jpg'\n",
    "        image_path = os.path.join(image_dir, image_name)\n",
    "        \n",
    "        # Obtener el ancho y alto de la imagen\n",
    "        image = cv2.imread(image_path)\n",
    "        image_height, image_width, _ = image.shape\n",
    "\n",
    "        # Convertir el archivo XML al formato YOLO\n",
    "        yolo_lines = convert_to_yolo(os.path.join(xml_dir, xml_file), image_width, image_height)\n",
    "\n",
    "        # Guardar las líneas en un archivo YOLO\n",
    "        yolo_file = os.path.splitext(xml_file)[0] + '.txt'\n",
    "        with open(os.path.join(xml_dir, yolo_file), 'w') as f:\n",
    "            for line in yolo_lines:\n",
    "                f.write(line + '\\n')\n"
   ]
  }
 ],
 "metadata": {
  "kernelspec": {
   "display_name": "labelimg",
   "language": "python",
   "name": "python3"
  },
  "language_info": {
   "codemirror_mode": {
    "name": "ipython",
    "version": 3
   },
   "file_extension": ".py",
   "mimetype": "text/x-python",
   "name": "python",
   "nbconvert_exporter": "python",
   "pygments_lexer": "ipython3",
   "version": "3.10.14"
  }
 },
 "nbformat": 4,
 "nbformat_minor": 2
}
